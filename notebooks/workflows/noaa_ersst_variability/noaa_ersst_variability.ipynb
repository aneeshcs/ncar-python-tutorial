{
 "cells": [
  {
   "cell_type": "markdown",
   "metadata": {},
   "source": [
    "# El Niño / Southern Oscillation (ENSO) from Sea Surface Temperature (SST)"
   ]
  },
  {
   "cell_type": "markdown",
   "metadata": {
    "toc": true
   },
   "source": [
    "<h1>Table of Contents<span class=\"tocSkip\"></span></h1>\n",
    "<div class=\"toc\"><ul class=\"toc-item\"><li><span><a href=\"#El-Niño-/-Southern-Oscillation-(ENSO)-from-Sea-Surface-Temperature-(SST)\" data-toc-modified-id=\"El-Niño-/-Southern-Oscillation-(ENSO)-from-Sea-Surface-Temperature-(SST)-1\"><span class=\"toc-item-num\">1&nbsp;&nbsp;</span>El Niño / Southern Oscillation (ENSO) from Sea Surface Temperature (SST)</a></span><ul class=\"toc-item\"><li><span><a href=\"#Learning-Objectives\" data-toc-modified-id=\"Learning-Objectives-1.1\"><span class=\"toc-item-num\">1.1&nbsp;&nbsp;</span>Learning Objectives</a></span></li><li><span><a href=\"#Access-remote-data-directly-from-NOAA-using-OpenDAP-protocol\" data-toc-modified-id=\"Access-remote-data-directly-from-NOAA-using-OpenDAP-protocol-1.2\"><span class=\"toc-item-num\">1.2&nbsp;&nbsp;</span>Access remote data directly from NOAA using OpenDAP protocol</a></span></li><li><span><a href=\"#Select-only-the-more-recent-part-of-the-data.\" data-toc-modified-id=\"Select-only-the-more-recent-part-of-the-data.-1.3\"><span class=\"toc-item-num\">1.3&nbsp;&nbsp;</span>Select only the more recent part of the data.</a></span></li><li><span><a href=\"#Interactive-Plot\" data-toc-modified-id=\"Interactive-Plot-1.4\"><span class=\"toc-item-num\">1.4&nbsp;&nbsp;</span>Interactive Plot</a></span></li><li><span><a href=\"#Calculate-Climatology-and-Monthly-Anomaly\" data-toc-modified-id=\"Calculate-Climatology-and-Monthly-Anomaly-1.5\"><span class=\"toc-item-num\">1.5&nbsp;&nbsp;</span>Calculate Climatology and Monthly Anomaly</a></span></li><li><span><a href=\"#Plot-global-mean\" data-toc-modified-id=\"Plot-global-mean-1.6\"><span class=\"toc-item-num\">1.6&nbsp;&nbsp;</span>Plot global mean</a></span></li><li><span><a href=\"#Calculate-Oceanic-Niño-Index\" data-toc-modified-id=\"Calculate-Oceanic-Niño-Index-1.7\"><span class=\"toc-item-num\">1.7&nbsp;&nbsp;</span>Calculate Oceanic Niño Index</a></span></li><li><span><a href=\"#Composite-the-global-SST-on-the-Niño3.4-index\" data-toc-modified-id=\"Composite-the-global-SST-on-the-Niño3.4-index-1.8\"><span class=\"toc-item-num\">1.8&nbsp;&nbsp;</span>Composite the global SST on the Niño3.4 index</a></span></li><li><span><a href=\"#Calculate-Empirical-Orthogonal-Functions\" data-toc-modified-id=\"Calculate-Empirical-Orthogonal-Functions-1.9\"><span class=\"toc-item-num\">1.9&nbsp;&nbsp;</span>Calculate Empirical Orthogonal Functions</a></span></li><li><span><a href=\"#Going-Further\" data-toc-modified-id=\"Going-Further-1.10\"><span class=\"toc-item-num\">1.10&nbsp;&nbsp;</span>Going Further</a></span></li></ul></li></ul></div>"
   ]
  },
  {
   "cell_type": "markdown",
   "metadata": {},
   "source": [
    "This notebook is adapted from [Ryan Abernathey](http://rabernat.github.io)'s notebook: https://github.com/pangeo-data/pangeo-ocean-examples/blob/master/noaa_ersst_variability.ipynb\n",
    "\n",
    "According to [NOAA](https://www.esrl.noaa.gov/psd/enso/):\n",
    ">  El Niño and La Niña, together called the El Niño Southern Oscillation (ENSO), are periodic departures from expected sea surface temperatures (SSTs) in the equatorial Pacific Ocean. These warmer or cooler than normal ocean temperatures can affect weather patterns around the world by influencing high and low pressure systems, winds, and precipitation. ENSO may bring much needed moisture to a region while causing extremes of too much or too little water in others.\n",
    "\n",
    "\n",
    "## Learning Objectives\n",
    "\n",
    "- In this notebook, we use the python [xarray](http://xarray.pydata.org/en/latest/) package to examine SST data from NOAA's [Extended Reconstructed Sea Surface Temperature (ERSST) v5](https://www.ncdc.noaa.gov/data-access/marineocean-data/extended-reconstructed-sea-surface-temperature-ersst-v5) product.\n",
    "- We use [holoviews](http://holoviews.org/) via hvplot to interactively visualize the data.\n",
    "- We then demonstrate how easy it is to calculate the [Niño3.4 index](https://www.ncdc.noaa.gov/teleconnections/enso/indicators/sst/).\n",
    "- Finally, we use the [EOFS](https://ajdawson.github.io/eofs/index.html) package to compute the Emprical Orthogoal Functions of global SST."
   ]
  },
  {
   "cell_type": "code",
   "execution_count": null,
   "metadata": {},
   "outputs": [],
   "source": [
    "import warnings\n",
    "warnings.filterwarnings('ignore')\n",
    "import xarray as xr\n",
    "from matplotlib import pyplot as plt\n",
    "import numpy as np\n",
    "import hvplot.xarray\n",
    "import holoviews as hv\n",
    "import cartopy.crs as ccrs\n",
    "hv.extension('bokeh')\n",
    "%matplotlib inline"
   ]
  },
  {
   "cell_type": "markdown",
   "metadata": {},
   "source": [
    "## Access remote data directly from NOAA using OpenDAP protocol\n",
    "\n",
    "OPeNDAP is a means by which a user can access a remote file over the internet. \n",
    "xarray includes support for [OPeNDAP](http://www.opendap.org/) (via the netCDF4 library or Pydap), which lets us access large datasets over HTTP. For example, we can open a connection to NOAA Extended Reconstructed Sea Surface Temperature (SST) V5 data, hosted by [NOAA Earth System Research Laboratory (ESRL)](https://www.esrl.noaa.gov/psd/data/gridded/data.noaa.ersst.v5.html):"
   ]
  },
  {
   "cell_type": "code",
   "execution_count": null,
   "metadata": {},
   "outputs": [],
   "source": [
    "url = 'http://www.esrl.noaa.gov/psd/thredds/dodsC/Datasets/noaa.ersst.v5/sst.mnmean.nc'\n",
    "ds = xr.open_dataset(url)\n",
    "ds"
   ]
  },
  {
   "cell_type": "markdown",
   "metadata": {},
   "source": [
    "## Select only the more recent part of the data.\n",
    "\n",
    "We can select and slice this data any number of times, and nothing is loaded over the network until we look at particular values:"
   ]
  },
  {
   "cell_type": "code",
   "execution_count": null,
   "metadata": {},
   "outputs": [],
   "source": [
    "ds = ds.sel(time=slice('1960', '2019'))\n",
    "ds"
   ]
  },
  {
   "cell_type": "code",
   "execution_count": null,
   "metadata": {},
   "outputs": [],
   "source": [
    "# size of data in MB\n",
    "ds.nbytes/1e6 "
   ]
  },
  {
   "cell_type": "code",
   "execution_count": null,
   "metadata": {},
   "outputs": [],
   "source": [
    "# actually download the data\n",
    "ds.load()"
   ]
  },
  {
   "cell_type": "markdown",
   "metadata": {},
   "source": [
    "## Interactive Plot"
   ]
  },
  {
   "cell_type": "markdown",
   "metadata": {},
   "source": [
    "To interactively visualize our data, we use [hvplot](https://hvplot.pyviz.org/index.html), a Python package built on top of [HoloViews](http://holoviews.org/). \n",
    "\n",
    "HoloViews is an open-source Python library that makes it simpler to explore your data and communicate the results to others. Compared to other tools, the most important feature of HoloViews is that:\n",
    "\n",
    "**HoloViews lets you work seamlessly with both the data and its graphical representation.**\n",
    "\n",
    "When using HoloViews, the focus is on bundling your data together with the appropriate metadata to support both analysis and plotting, making your raw data and its visualization equally accessible at all times. "
   ]
  },
  {
   "cell_type": "code",
   "execution_count": null,
   "metadata": {
    "scrolled": true
   },
   "outputs": [],
   "source": [
    "# Switch to using the scrubber widget, with frame per second = 3\n",
    "%output holomap='scrubber' fps=3\n",
    "ds.sst.hvplot(x='lon', y='lat', \n",
    "              projection=ccrs.Robinson(central_longitude=180), \n",
    "              cmap='Magma')\\\n",
    "       .redim.range(sst=(-2, 30))"
   ]
  },
  {
   "cell_type": "markdown",
   "metadata": {},
   "source": [
    "Let's unpack what is happening the cell above:\n",
    "\n",
    "- We select the variable to plot with `ds.sst`\n",
    "- Call the hvplot functionality with `ds.sst.hvplot()`, and pass in:\n",
    "  - Field names in the data to draw x- and y-positions from \n",
    "  - projection to use. In our case we use the Robinson() projection from cartopy library.\n",
    "  - `cmap='Magma'` corresponds to the colormap name to use. \n",
    "\n",
    "- The `.redim.range()` operation used in  `ds.sst.hvplot(...).redim.range(sst=(-2, 30))` allows us to specify the bounds for the `sst` variable. "
   ]
  },
  {
   "cell_type": "markdown",
   "metadata": {},
   "source": [
    "## Calculate Climatology and Monthly Anomaly\n",
    "\n",
    "Xarray makes this particularly easy"
   ]
  },
  {
   "cell_type": "code",
   "execution_count": null,
   "metadata": {},
   "outputs": [],
   "source": [
    "sst_clim = ds.sst.groupby('time.month').mean(dim='time')\n",
    "sst_anom = ds.sst.groupby('time.month') - sst_clim"
   ]
  },
  {
   "cell_type": "markdown",
   "metadata": {},
   "source": [
    "Detrend signal"
   ]
  },
  {
   "cell_type": "code",
   "execution_count": null,
   "metadata": {},
   "outputs": [],
   "source": [
    "from scipy.signal import detrend\n",
    "sst_anom_detrended = xr.apply_ufunc(detrend, sst_anom.fillna(0),\n",
    "                                    kwargs={'axis': 0})\\\n",
    "                       .where(sst_anom.notnull())"
   ]
  },
  {
   "cell_type": "markdown",
   "metadata": {},
   "source": [
    "Let's unpack what is happening the cell above:\n",
    "\n",
    "- First, we are importing `detrend` function from scipy library. `detrend()` function is used to remove linear trend along axis from data. \n",
    "- Second, we apply the `detrend` function on our dataset via xarray's `apply_ufunc()`. Xarray's `apply_ufunc()` function allows us to apply a universal function (or ufunc for short), which is a function that operates on arrays in an element-by-element fashion. In this case, `detrend()` function is the ufunc.\n",
    "- `sst_anom.fillna(0)` fills missing values with `0`, and this is what is used as an input to our `detrend()` function.\n",
    "- `sst_anom.notnull()` detects non-missing values in our `sst_anom` array. \n"
   ]
  },
  {
   "cell_type": "markdown",
   "metadata": {},
   "source": [
    "## Plot global mean"
   ]
  },
  {
   "cell_type": "markdown",
   "metadata": {},
   "source": [
    "For a global average, we need to weigh the points by cosine of latitude.\n",
    "This is not built into xarray because xarray is not specific to geoscientific data."
   ]
  },
  {
   "cell_type": "code",
   "execution_count": null,
   "metadata": {},
   "outputs": [],
   "source": [
    "weights = np.cos(np.deg2rad(ds.lat)).where(sst_anom[0].notnull())\n",
    "weights /= weights.sum()"
   ]
  },
  {
   "cell_type": "code",
   "execution_count": null,
   "metadata": {},
   "outputs": [],
   "source": [
    "(sst_anom * weights).mean(dim=['lon', 'lat']).plot(label='raw')\n",
    "(sst_anom_detrended * weights).mean(dim=['lon', 'lat']).plot(label='detrended')\n",
    "plt.grid()\n",
    "plt.legend()"
   ]
  },
  {
   "cell_type": "code",
   "execution_count": null,
   "metadata": {},
   "outputs": [],
   "source": [
    "sst_anom_detrended.hvplot(x='lon', y='lat', \n",
    "                          projection=ccrs.PlateCarree(central_longitude=180), \n",
    "                          cmap='RdBu_r')\\\n",
    "                  .redim.range(sst=(-2, 2))"
   ]
  },
  {
   "cell_type": "markdown",
   "metadata": {},
   "source": [
    "## Calculate Oceanic Niño Index"
   ]
  },
  {
   "cell_type": "code",
   "execution_count": null,
   "metadata": {},
   "outputs": [],
   "source": [
    "# Select regions from lat=range(5, -5) and lon=range(190, 240)\n",
    "sst_anom_nino34 = sst_anom_detrended.sel(lat=slice(5, -5), lon=slice(190, 240))\n",
    "# Compute a moving temporal average\n",
    "sst_anom_nino34_mean = sst_anom_nino34.mean(dim=('lon', 'lat'))\n",
    "oni = sst_anom_nino34_mean.rolling(time=3, center=True).mean()"
   ]
  },
  {
   "cell_type": "markdown",
   "metadata": {},
   "source": [
    "Plot it:"
   ]
  },
  {
   "cell_type": "code",
   "execution_count": null,
   "metadata": {},
   "outputs": [],
   "source": [
    "oni.plot()\n",
    "plt.grid()\n",
    "plt.ylabel('Anomaly (dec. C)');"
   ]
  },
  {
   "cell_type": "markdown",
   "metadata": {},
   "source": [
    "Compare to the [official version](https://www.ncdc.noaa.gov/teleconnections/enso/indicators/sst/) from NOAA:"
   ]
  },
  {
   "cell_type": "markdown",
   "metadata": {},
   "source": [
    "![NOAA Nino 3.4](../../../assets/noaa-nino-sst.gif)"
   ]
  },
  {
   "cell_type": "markdown",
   "metadata": {},
   "source": [
    "## Composite the global SST on the Niño3.4 index"
   ]
  },
  {
   "cell_type": "code",
   "execution_count": null,
   "metadata": {},
   "outputs": [],
   "source": [
    "positive_oni = ((oni>0.5).astype('b').rolling(time=5, center=True).sum()==5)\n",
    "negative_oni = ((oni<0.5).astype('b').rolling(time=5, center=True).sum()==5)\n",
    "positive_oni.astype('i').plot(marker='.', label='positive')\n",
    "(-negative_oni.astype('i')).plot(marker='.', label='negative')\n",
    "plt.legend()"
   ]
  },
  {
   "cell_type": "code",
   "execution_count": null,
   "metadata": {},
   "outputs": [],
   "source": [
    "sst_anom.where(positive_oni).mean(dim='time').plot()\n",
    "plt.title('SST Anomaly - Positive Niño3.4');"
   ]
  },
  {
   "cell_type": "code",
   "execution_count": null,
   "metadata": {},
   "outputs": [],
   "source": [
    "sst_anom.where(negative_oni).mean(dim='time').plot()\n",
    "plt.title('SST Anomaly - Negative Niño3.4');"
   ]
  },
  {
   "cell_type": "markdown",
   "metadata": {},
   "source": [
    "## Calculate Empirical Orthogonal Functions"
   ]
  },
  {
   "cell_type": "markdown",
   "metadata": {},
   "source": [
    "Using (EOFs) empirical orthogonal functions is a common technique to decompose a signal varying in time and space into a form that is easier to interpret in terms of spatial and temporal variance. "
   ]
  },
  {
   "cell_type": "code",
   "execution_count": null,
   "metadata": {},
   "outputs": [],
   "source": [
    "from eofs.xarray import Eof\n",
    "solver = Eof(sst_anom_detrended, weights=np.sqrt(weights))\n",
    "eof1 = solver.eofsAsCorrelation(neofs=1)\n",
    "pc1 = solver.pcs(npcs=1, pcscaling=1)"
   ]
  },
  {
   "cell_type": "code",
   "execution_count": null,
   "metadata": {},
   "outputs": [],
   "source": [
    "eof1.sel(mode=0).plot()"
   ]
  },
  {
   "cell_type": "markdown",
   "metadata": {},
   "source": [
    "The first principal component is almost identical to the ONI."
   ]
  },
  {
   "cell_type": "code",
   "execution_count": null,
   "metadata": {},
   "outputs": [],
   "source": [
    "pc1.sel(mode=0).plot(label='PC mode 0')\n",
    "(-oni).plot(label='- ONI')\n",
    "plt.grid()\n",
    "plt.legend()"
   ]
  },
  {
   "cell_type": "markdown",
   "metadata": {},
   "source": [
    "## Going Further\n",
    "\n",
    "- [eofs package documentation](https://ajdawson.github.io/eofs/latest/index.html)\n",
    "- [hvPlot documentation](https://hvplot.pyviz.org/)\n",
    "- [holoviews documentation](http://holoviews.org/)"
   ]
  }
 ],
 "metadata": {
  "kernelspec": {
   "display_name": "Python 3",
   "language": "python",
   "name": "python3"
  },
  "language_info": {
   "codemirror_mode": {
    "name": "ipython",
    "version": 3
   },
   "file_extension": ".py",
   "mimetype": "text/x-python",
   "name": "python",
   "nbconvert_exporter": "python",
   "pygments_lexer": "ipython3",
   "version": "3.6.7"
  },
  "toc": {
   "base_numbering": 1,
   "nav_menu": {},
   "number_sections": true,
   "sideBar": true,
   "skip_h1_title": false,
   "title_cell": "Table of Contents",
   "title_sidebar": "Contents",
   "toc_cell": true,
   "toc_position": {},
   "toc_section_display": true,
   "toc_window_display": true
  },
  "varInspector": {
   "cols": {
    "lenName": 16,
    "lenType": 16,
    "lenVar": 40
   },
   "kernels_config": {
    "python": {
     "delete_cmd_postfix": "",
     "delete_cmd_prefix": "del ",
     "library": "var_list.py",
     "varRefreshCmd": "print(var_dic_list())"
    },
    "r": {
     "delete_cmd_postfix": ") ",
     "delete_cmd_prefix": "rm(",
     "library": "var_list.r",
     "varRefreshCmd": "cat(var_dic_list()) "
    }
   },
   "types_to_exclude": [
    "module",
    "function",
    "builtin_function_or_method",
    "instance",
    "_Feature"
   ],
   "window_display": false
  }
 },
 "nbformat": 4,
 "nbformat_minor": 4
}
